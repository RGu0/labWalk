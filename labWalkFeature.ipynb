{
 "cells": [
  {
   "cell_type": "code",
   "execution_count": null,
   "metadata": {},
   "outputs": [],
   "source": [
    "import matplotlib.pyplot as plt\n",
    "%matplotlib inline\n",
    "import numpy as np\n",
    "import os\n",
    "import shutil\n",
    "from scipy.interpolate import interp1d\n",
    "from scipy.ndimage import gaussian_filter\n",
    "\n",
    "import wfdb"
   ]
  },
  {
   "cell_type": "code",
   "execution_count": null,
   "metadata": {},
   "outputs": [],
   "source": [
    "allData = []\n",
    "y = [];\n",
    "\n",
    "for i in range(45):\n",
    "\n",
    "    index = '{:03}'.format(i)\n",
    "    fileName = 'LabWalks/co' + index + '_base'\n",
    "    if os.path.isfile(fileName + '.hea'):\n",
    "        record = wfdb.rdrecord(fileName)\n",
    "        data = record.p_signal\n",
    "        #tmp = np.linalg.norm(data[:,0:3],axis=1)\n",
    "        #print(np.size(tmp))\n",
    "        allData.append(data.T)\n",
    "        y.append(0)\n",
    "    \n",
    "    index = '{:03}'.format(i)\n",
    "    fileName = 'LabWalks/fl' + index + '_base'\n",
    "    if os.path.isfile(fileName + '.hea'):\n",
    "        record = wfdb.rdrecord(fileName)\n",
    "        data = record.p_signal\n",
    "        #tmp = np.linalg.norm(data[:,0:3],axis=1)\n",
    "        #print(np.size(tmp))\n",
    "        allData.append(data.T)\n",
    "        y.append(1)\n",
    "\n",
    "print(np.shape(allData[0]))"
   ]
  },
  {
   "cell_type": "code",
   "execution_count": null,
   "metadata": {},
   "outputs": [],
   "source": [
    "X = np.zeros((len(allData), 12))\n",
    "for i in range(len(allData)):\n",
    "    index = 0\n",
    "    for j in range(6):\n",
    "        X[i, index] = np.mean(allData[i][j,:])\n",
    "        index = index + 1\n",
    "        X[i, index] = np.std(allData[i][j,:])\n",
    "        index = index + 1\n",
    "\n",
    "print(X)\n",
    "\n",
    "from sklearn.preprocessing import StandardScaler\n",
    "\n",
    "scaler = StandardScaler()\n",
    "Xp = scaler.fit_transform(X)\n",
    "\n",
    "print(Xp)"
   ]
  },
  {
   "cell_type": "code",
   "execution_count": null,
   "metadata": {},
   "outputs": [],
   "source": [
    "from sklearn.decomposition import PCA\n",
    "\n",
    "pca = PCA(n_components=2).fit(Xp)\n",
    "pca_2d = pca.transform(Xp)\n",
    "\n",
    "\n",
    "import pylab as pl\n",
    "for i in range(0, pca_2d.shape[0]):\n",
    "    if y[i] == 0:\n",
    "        c1 = pl.scatter(pca_2d[i,0],pca_2d[i,1],c='r',    marker='+')\n",
    "    elif y[i] == 1:\n",
    "        c2 = pl.scatter(pca_2d[i,0],pca_2d[i,1],c='g',    marker='o')\n",
    "\n",
    "        \n",
    "pl.legend([c1, c2], ['Nonfaller', 'Faller'])\n",
    "pl.title('Training dataset with 2 classes')\n",
    "pl.show()\n",
    "\n",
    "pca.explained_variance_ratio_"
   ]
  },
  {
   "cell_type": "code",
   "execution_count": null,
   "metadata": {},
   "outputs": [],
   "source": [
    "def plot_embedding(X, y, title=None):\n",
    "    x_min, x_max = np.min(X, 0), np.max(X, 0)\n",
    "    X = (X - x_min) / (x_max - x_min)     \n",
    "    plt.figure()\n",
    "    ax = plt.subplot(111)\n",
    "    for i in range(X.shape[0]):\n",
    "        plt.text(X[i, 0], X[i, 1], str(y[i]),\n",
    "                 color=plt.cm.Set1(y[i] / 10.),\n",
    "                 fontdict={'weight': 'bold', 'size': 9})\n",
    "    plt.xticks([]), plt.yticks([])\n",
    "    if title is not None:\n",
    "        plt.title(title)\n",
    "        \n",
    "from sklearn import manifold\n",
    "#降维\n",
    "tsne = manifold.TSNE(n_components=2, init='pca', random_state=1)\n",
    "\n",
    "X_tsne = tsne.fit_transform(Xp)\n",
    "#绘图\n",
    "plot_embedding(X_tsne,y*5)\n",
    "plt.show()"
   ]
  },
  {
   "cell_type": "code",
   "execution_count": null,
   "metadata": {},
   "outputs": [],
   "source": [
    "print(X_tsne)"
   ]
  },
  {
   "cell_type": "code",
   "execution_count": null,
   "metadata": {},
   "outputs": [],
   "source": []
  }
 ],
 "metadata": {
  "kernelspec": {
   "display_name": "Python 3",
   "language": "python",
   "name": "python3"
  },
  "language_info": {
   "codemirror_mode": {
    "name": "ipython",
    "version": 3
   },
   "file_extension": ".py",
   "mimetype": "text/x-python",
   "name": "python",
   "nbconvert_exporter": "python",
   "pygments_lexer": "ipython3",
   "version": "3.7.3"
  }
 },
 "nbformat": 4,
 "nbformat_minor": 4
}
